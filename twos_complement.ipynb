{
 "cells": [
  {
   "cell_type": "code",
   "execution_count": 13,
   "metadata": {},
   "outputs": [],
   "source": [
    "import numpy as np\n",
    "import matplotlib.pyplot as plt\n",
    "import nengo\n"
   ]
  },
  {
   "cell_type": "code",
   "execution_count": 14,
   "metadata": {},
   "outputs": [],
   "source": [
    "def flip_bits(input_bit):\n",
    "    if(0.5 <= input_bit < 1.5):\n",
    "        return 0\n",
    "    return 1\n"
   ]
  },
  {
   "cell_type": "code",
   "execution_count": 15,
   "metadata": {},
   "outputs": [],
   "source": [
    "def twos_comp(input2):\n",
    "    exponent2_bits = input2\n",
    "    exponent_len = len(exponent2_bits)-1\n",
    "    while exponent2_bits[exponent_len]!=1:\n",
    "        exponent_len-=1\n",
    "    exponent_len-=1\n",
    "    if(exponent_len<0):\n",
    "        return input2\n",
    "    model = nengo.Network()\n",
    "\n",
    "    with model:\n",
    "        exponent2_nodes = [] \n",
    "        for i in range(exponent_len+1):\n",
    "            exponent2_nodes.append(nengo.Node(output = exponent2_bits[i]))\n",
    "        flipping_ensembles = []\n",
    "        for i in range(exponent_len+1):\n",
    "            flipping_ensembles.append(nengo.Ensemble(n_neurons = 200, dimensions = 1, radius = 2))\n",
    "        for i in range(exponent_len+1):\n",
    "                nengo.Connection(exponent2_nodes[i], flipping_ensembles[i])\n",
    "        output_ensembles = []\n",
    "        for i in range(exponent_len+1):\n",
    "            output_ensembles.append(nengo.Ensemble(n_neurons = 200, dimensions = 1, radius = 2))\n",
    "            nengo.Connection(flipping_ensembles[i], output_ensembles[i], function = flip_bits)\n",
    "        flip_probes = []\n",
    "\n",
    "        for i in range(exponent_len+1):\n",
    "            flip_probes.append(nengo.Probe(output_ensembles[i], synapse = 0.01))\n",
    "\n",
    "    with nengo.Simulator(model) as sim:\n",
    "        sim.run(5.0)\n",
    "        exponent2_string = \"Mantissa : \"\n",
    "        input2s_comp=[]\n",
    "        for i in range(exponent_len+1):\n",
    "            #input2.append(exponent2_bits[i - 1])\n",
    "            #exponent2_string = exponent2_string + str(exponent2_bits[i])\n",
    "            j = np.mean(sim.data[flip_probes[i]])\n",
    "            input2s_comp.append(int(j))\n",
    "        exponent_len+=1\n",
    "        while exponent_len!=len(exponent2_bits):\n",
    "            input2s_comp.append(int(exponent2_bits[exponent_len]))\n",
    "            exponent_len+=1\n",
    "\n",
    "        print(exponent2_string)\n",
    "        return input2s_comp"
   ]
  },
  {
   "cell_type": "code",
   "execution_count": null,
   "metadata": {},
   "outputs": [],
   "source": []
  }
 ],
 "metadata": {
  "kernelspec": {
   "display_name": "Python 2",
   "language": "python",
   "name": "python2"
  },
  "language_info": {
   "codemirror_mode": {
    "name": "ipython",
    "version": 2
   },
   "file_extension": ".py",
   "mimetype": "text/x-python",
   "name": "python",
   "nbconvert_exporter": "python",
   "pygments_lexer": "ipython2",
   "version": "2.7.12"
  }
 },
 "nbformat": 4,
 "nbformat_minor": 2
}
